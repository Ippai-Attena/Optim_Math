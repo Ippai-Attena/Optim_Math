{
 "cells": [
  {
   "cell_type": "markdown",
   "metadata": {},
   "source": [
    "# Algorithm 3.1"
   ]
  },
  {
   "cell_type": "code",
   "execution_count": 6,
   "metadata": {},
   "outputs": [
    {
     "data": {
      "text/plain": [
       "search (generic function with 2 methods)"
      ]
     },
     "execution_count": 6,
     "metadata": {},
     "output_type": "execute_result"
    }
   ],
   "source": [
    "function sgn(x)::Float64\n",
    "    if x < 0\n",
    "        return -1.0\n",
    "    elseif x==0\n",
    "        return 0.0\n",
    "    else\n",
    "        return 1.0\n",
    "    end\n",
    "end\n",
    "\n",
    "function search(x₀::Real, f::Function, f_diff::Function; h₀=1.0)::Float64\n",
    "    # initialize\n",
    "    x=x₀\n",
    "    h=h₀\n",
    "    h=sgn(f_diff(x))*abs(h)\n",
    "    X1=x\n",
    "    X2=x+h\n",
    "    \n",
    "    if f(X1)<f(X2)\n",
    "        while f(X1)<f(X2)\n",
    "            h=2h\n",
    "            X1=X2\n",
    "            X2=X1+h\n",
    "\n",
    "            x=X1\n",
    "            h=h/2.0\n",
    "        end\n",
    "    else\n",
    "        while f(X1)>f(X2)\n",
    "            h=h/2.0\n",
    "            X2=X1-h\n",
    "\n",
    "            x=X2\n",
    "            h=2h\n",
    "        end\n",
    "    end\n",
    "    \n",
    "    return x\n",
    "end"
   ]
  },
  {
   "cell_type": "code",
   "execution_count": 8,
   "metadata": {},
   "outputs": [],
   "source": [
    "using PyPlot\n",
    "using LinearAlgebra"
   ]
  },
  {
   "cell_type": "code",
   "execution_count": 24,
   "metadata": {},
   "outputs": [
    {
     "data": {
      "text/plain": [
       "1.0e-8"
      ]
     },
     "execution_count": 24,
     "metadata": {},
     "output_type": "execute_result"
    }
   ],
   "source": [
    "f(x)=-(x-4)^4+3\n",
    "f_diff(x)=-4*(x-4)^3\n",
    "x₀=10.0\n",
    "h₀=1e-8"
   ]
  },
  {
   "cell_type": "code",
   "execution_count": 25,
   "metadata": {},
   "outputs": [
    {
     "data": {
      "text/plain": [
       "4.001766746454088"
      ]
     },
     "execution_count": 25,
     "metadata": {},
     "output_type": "execute_result"
    }
   ],
   "source": [
    "x=search(x₀, f, f_diff, h₀=h₀)"
   ]
  },
  {
   "cell_type": "code",
   "execution_count": null,
   "metadata": {
    "collapsed": true
   },
   "outputs": [],
   "source": []
  }
 ],
 "metadata": {
  "kernelspec": {
   "display_name": "Julia 1.0.0",
   "language": "julia",
   "name": "julia-1.0"
  },
  "language_info": {
   "file_extension": ".jl",
   "mimetype": "application/julia",
   "name": "julia",
   "version": "1.0.0"
  }
 },
 "nbformat": 4,
 "nbformat_minor": 2
}
